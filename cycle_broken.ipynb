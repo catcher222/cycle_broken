{
 "cells": [
  {
   "cell_type": "code",
   "execution_count": null,
   "metadata": {
    "id": "F9pjssaj9Q45"
   },
   "outputs": [],
   "source": [
    "import pandas as pd\n",
    "from sklearn.model_selection import train_test_split"
   ]
  },
  {
   "cell_type": "code",
   "execution_count": null,
   "metadata": {
    "id": "6AqIRAKIIw2v"
   },
   "outputs": [],
   "source": [
    "from google.colab import drive\n",
    "drive.mount('/content/drive')"
   ]
  },
  {
   "cell_type": "markdown",
   "metadata": {},
   "source": [
    "#### 기존에 전처리한 csv 파일 "
   ]
  },
  {
   "cell_type": "code",
   "execution_count": null,
   "metadata": {
    "id": "MXE5FSBa9WAb"
   },
   "outputs": [],
   "source": [
    "alive_2020 = pd.read_csv(\"/content/drive/MyDrive/ML/alive_2020.csv\", encoding = \"cp949\")\n",
    "alive_2021 = pd.read_csv(\"/content/drive/MyDrive/ML/alive_2021.csv\", encoding = \"cp949\")\n",
    "break_2020 = pd.read_csv(\"/content/drive/MyDrive/ML/break_2020.csv\", encoding = \"cp949\")\n",
    "break_2021 = pd.read_csv(\"/content/drive/MyDrive/ML/break_2021.csv\", encoding = \"cp949\")"
   ]
  },
  {
   "cell_type": "markdown",
   "metadata": {},
   "source": [
    "#### 모델링에 사용하기 위해 concat 함수를 이용하여 합쳐줌 "
   ]
  },
  {
   "cell_type": "code",
   "execution_count": null,
   "metadata": {
    "id": "3NbVFRPUPrLj"
   },
   "outputs": [],
   "source": [
    "data = pd.concat([alive_2020,alive_2021,break_2020, break_2021])"
   ]
  },
  {
   "cell_type": "code",
   "execution_count": null,
   "metadata": {
    "id": "e9kjqeiUv04l"
   },
   "outputs": [],
   "source": [
    "data"
   ]
  },
  {
   "cell_type": "code",
   "execution_count": null,
   "metadata": {
    "id": "I4mtVx8Kvyw3"
   },
   "outputs": [],
   "source": [
    "df = data.drop([\"Unnamed: 0\",\"등록일시\"],axis = \"columns\")"
   ]
  },
  {
   "cell_type": "code",
   "execution_count": null,
   "metadata": {
    "id": "JK7mibbahLp7"
   },
   "outputs": [],
   "source": [
    "data"
   ]
  },
  {
   "cell_type": "code",
   "execution_count": null,
   "metadata": {
    "id": "pedu7wTshIGe"
   },
   "outputs": [],
   "source": [
    "df"
   ]
  },
  {
   "cell_type": "markdown",
   "metadata": {},
   "source": [
    "#### 누적이용시간, 누적이용거리, 누적이용횟수, 이용강도, 평균이용거리 data를 이용하여\n",
    "#### labeling한 고장을 구분함."
   ]
  },
  {
   "cell_type": "code",
   "execution_count": null,
   "metadata": {
    "id": "-lZJiLM49fh1"
   },
   "outputs": [],
   "source": [
    "data = df[['누적이용시간','누적이용거리','누적이용횟수','이용강도','평균이용거리']]\n",
    "target = df[\"고장구분\"]"
   ]
  },
  {
   "cell_type": "code",
   "execution_count": null,
   "metadata": {
    "id": "akseMXlT9gDf"
   },
   "outputs": [],
   "source": [
    "x_train, x_valid, y_train, y_valid = train_test_split(data, target,test_size=0.2, shuffle = True, stratify = target,random_state=34)"
   ]
  },
  {
   "cell_type": "markdown",
   "metadata": {},
   "source": [
    "#### 지도 모델을 위해 SVC모델을 사용함"
   ]
  },
  {
   "cell_type": "code",
   "execution_count": 3,
   "metadata": {},
   "outputs": [],
   "source": [
    "from sklearn.svm import SVC"
   ]
  },
  {
   "cell_type": "code",
   "execution_count": null,
   "metadata": {
    "colab": {
     "background_save": true
    },
    "id": "coJGNYaH9jg0"
   },
   "outputs": [],
   "source": [
    "classifier = SVC(kernel = 'rbf')\n",
    "classifier.fit(x_train,y_train)"
   ]
  },
  {
   "cell_type": "markdown",
   "metadata": {},
   "source": [
    "#### 테스트"
   ]
  },
  {
   "cell_type": "code",
   "execution_count": null,
   "metadata": {
    "id": "yMeyLIob9kwr"
   },
   "outputs": [],
   "source": [
    "y_pred = classifier.predict(x_valid) "
   ]
  },
  {
   "cell_type": "code",
   "execution_count": null,
   "metadata": {
    "id": "o_1a3w7BQX80"
   },
   "outputs": [],
   "source": [
    "import numpy as np"
   ]
  },
  {
   "cell_type": "code",
   "execution_count": null,
   "metadata": {
    "id": "y5sNNZ7o9mS3"
   },
   "outputs": [],
   "source": [
    "print(\"예측된 라벨:\", y_pred)\n",
    "print(\"ground-truth 라벨:\", y_valid)\n",
    " \n",
    "print(\"prediction accuracy: {:.2f}\".format(np.mean(y_pred == y_valid))) # 예측 정확도\n",
    " "
   ]
  },
  {
   "cell_type": "markdown",
   "metadata": {
    "id": "C8W4pAFI9nsA"
   },
   "source": [
    "#### 정확도가 높지 않게 나왔다.(ppt)\n",
    "\n",
    "#### 이유는 모델링에 사용한 column과 고장의 상관관계가 크지 않아서이다."
   ]
  },
  {
   "cell_type": "markdown",
   "metadata": {
    "id": "TdT1BC1fb0FD"
   },
   "source": []
  },
  {
   "cell_type": "code",
   "execution_count": null,
   "metadata": {
    "id": "I17gvgx59o9e"
   },
   "outputs": [],
   "source": []
  },
  {
   "cell_type": "code",
   "execution_count": null,
   "metadata": {
    "id": "sBpm7YiY9qCA"
   },
   "outputs": [],
   "source": []
  },
  {
   "cell_type": "code",
   "execution_count": null,
   "metadata": {
    "id": "76IAgIvB9q7O"
   },
   "outputs": [],
   "source": []
  },
  {
   "cell_type": "code",
   "execution_count": null,
   "metadata": {
    "id": "1n8WHLVM9sIy"
   },
   "outputs": [],
   "source": []
  },
  {
   "cell_type": "code",
   "execution_count": null,
   "metadata": {
    "id": "OIrug5UO9tKw"
   },
   "outputs": [],
   "source": []
  },
  {
   "cell_type": "code",
   "execution_count": null,
   "metadata": {
    "id": "4FEWhwm_9uKw"
   },
   "outputs": [],
   "source": []
  },
  {
   "cell_type": "code",
   "execution_count": null,
   "metadata": {
    "id": "TLqz3kUT9vtF"
   },
   "outputs": [],
   "source": []
  },
  {
   "cell_type": "code",
   "execution_count": null,
   "metadata": {
    "id": "PJa3wyiN9xf2"
   },
   "outputs": [],
   "source": []
  },
  {
   "cell_type": "code",
   "execution_count": null,
   "metadata": {
    "id": "CJ1uCvebYa7N"
   },
   "outputs": [],
   "source": []
  },
  {
   "cell_type": "code",
   "execution_count": null,
   "metadata": {
    "id": "ZjZJuekoYuJ1"
   },
   "outputs": [],
   "source": []
  },
  {
   "cell_type": "code",
   "execution_count": null,
   "metadata": {
    "id": "c2jm3Q5GYbev"
   },
   "outputs": [],
   "source": []
  },
  {
   "cell_type": "code",
   "execution_count": null,
   "metadata": {
    "id": "6kMQBOL3Ybz4"
   },
   "outputs": [],
   "source": []
  },
  {
   "cell_type": "markdown",
   "metadata": {
    "id": "7ckUZC12_bZE"
   },
   "source": [
    "# 새 섹션"
   ]
  },
  {
   "cell_type": "markdown",
   "metadata": {
    "id": "zk_ivNRr_b4H"
   },
   "source": [
    "# 새 섹션"
   ]
  }
 ],
 "metadata": {
  "colab": {
   "collapsed_sections": [],
   "name": "엄복동_김상명",
   "provenance": []
  },
  "kernelspec": {
   "display_name": "Python 3 (ipykernel)",
   "language": "python",
   "name": "python3"
  },
  "language_info": {
   "codemirror_mode": {
    "name": "ipython",
    "version": 3
   },
   "file_extension": ".py",
   "mimetype": "text/x-python",
   "name": "python",
   "nbconvert_exporter": "python",
   "pygments_lexer": "ipython3",
   "version": "3.9.7"
  }
 },
 "nbformat": 4,
 "nbformat_minor": 1
}
